{
 "cells": [
  {
   "cell_type": "code",
   "execution_count": 3,
   "metadata": {},
   "outputs": [],
   "source": [
    "import numpy as np\n",
    "from scipy.stats import linregress\n",
    "from scipy.optimize import minimize\n",
    "import pandas as pd\n",
    "import os\n",
    "from statsmodels.stats.outliers_influence import variance_inflation_factor\n",
    "import statsmodels.api as sm\n",
    "import seaborn as sns\n",
    "from sklearn.linear_model import LinearRegression, LogisticRegression, Lasso\n",
    "# These lines do some fancy plotting magic.s\n",
    "%matplotlib inline\n",
    "import matplotlib.pyplot as plt\n",
    "import plotnine as p9\n",
    "plt.style.use('fivethirtyeight')\n",
    "import warnings\n",
    "warnings.simplefilter('ignore', FutureWarning)"
   ]
  },
  {
   "cell_type": "code",
   "execution_count": 4,
   "metadata": {},
   "outputs": [
    {
     "data": {
      "text/plain": [
       "\"\\n A. Model equation using a logistic regression model is: \\n 'bwt' = 0.0563  - 0.017 (lwt) +  1.32 (black) + 0.93 (other) + 1.03 (smoke)\\n + 1.87 (ht) +  0.72 (ui)\\n B. Shown below \\n C. 0.3 appears to be the threshold I choose. \\n D. I got a 67% accuracy. \\n E. The baseline accuracy is 31%. Therefore, we see that our confusion matrix \\n is higher and therefore more accurate and thus, showing that logistic modeling \\n is well-equipped to increasing the accuracy. \\n g. The AUC of the classifier is 0.73\\n    \\n\\n\""
      ]
     },
     "execution_count": 4,
     "metadata": {},
     "output_type": "execute_result"
    }
   ],
   "source": [
    "\"\"\"\n",
    " A. Model equation using a logistic regression model is: \n",
    " 'bwt' = 0.0563  - 0.017 (lwt) +  1.32 (black) + 0.93 (other) + 1.03 (smoke)\n",
    " + 1.87 (ht) +  0.72 (ui)\n",
    " B. Shown below \n",
    " C. 0.3 appears to be the threshold I choose. \n",
    " D. I got a 67% accuracy. \n",
    " E. The baseline accuracy is 31%. Therefore, we see that our confusion matrix \n",
    " is higher and therefore more accurate and thus, showing that logistic modeling \n",
    " is well-equipped to increasing the accuracy. \n",
    " g. The AUC of the classifier is 0.73\n",
    "    \n",
    "\n",
    "\"\"\""
   ]
  },
  {
   "cell_type": "code",
   "execution_count": 14,
   "metadata": {},
   "outputs": [
    {
     "data": {
      "text/html": [
       "<div>\n",
       "<style scoped>\n",
       "    .dataframe tbody tr th:only-of-type {\n",
       "        vertical-align: middle;\n",
       "    }\n",
       "\n",
       "    .dataframe tbody tr th {\n",
       "        vertical-align: top;\n",
       "    }\n",
       "\n",
       "    .dataframe thead th {\n",
       "        text-align: right;\n",
       "    }\n",
       "</style>\n",
       "<table border=\"1\" class=\"dataframe\">\n",
       "  <thead>\n",
       "    <tr style=\"text-align: right;\">\n",
       "      <th></th>\n",
       "      <th>low</th>\n",
       "      <th>age</th>\n",
       "      <th>lwt</th>\n",
       "      <th>smoke</th>\n",
       "      <th>ptl</th>\n",
       "      <th>ht</th>\n",
       "      <th>ui</th>\n",
       "      <th>ftv</th>\n",
       "      <th>bwt</th>\n",
       "      <th>white</th>\n",
       "      <th>black</th>\n",
       "      <th>other</th>\n",
       "    </tr>\n",
       "  </thead>\n",
       "  <tbody>\n",
       "    <tr>\n",
       "      <th>0</th>\n",
       "      <td>0</td>\n",
       "      <td>19</td>\n",
       "      <td>182</td>\n",
       "      <td>0</td>\n",
       "      <td>0</td>\n",
       "      <td>0</td>\n",
       "      <td>1</td>\n",
       "      <td>0</td>\n",
       "      <td>2523</td>\n",
       "      <td>0</td>\n",
       "      <td>1</td>\n",
       "      <td>0</td>\n",
       "    </tr>\n",
       "    <tr>\n",
       "      <th>1</th>\n",
       "      <td>0</td>\n",
       "      <td>33</td>\n",
       "      <td>155</td>\n",
       "      <td>0</td>\n",
       "      <td>0</td>\n",
       "      <td>0</td>\n",
       "      <td>0</td>\n",
       "      <td>3</td>\n",
       "      <td>2551</td>\n",
       "      <td>0</td>\n",
       "      <td>0</td>\n",
       "      <td>1</td>\n",
       "    </tr>\n",
       "    <tr>\n",
       "      <th>2</th>\n",
       "      <td>0</td>\n",
       "      <td>20</td>\n",
       "      <td>105</td>\n",
       "      <td>1</td>\n",
       "      <td>0</td>\n",
       "      <td>0</td>\n",
       "      <td>0</td>\n",
       "      <td>1</td>\n",
       "      <td>2557</td>\n",
       "      <td>1</td>\n",
       "      <td>0</td>\n",
       "      <td>0</td>\n",
       "    </tr>\n",
       "    <tr>\n",
       "      <th>3</th>\n",
       "      <td>0</td>\n",
       "      <td>21</td>\n",
       "      <td>108</td>\n",
       "      <td>1</td>\n",
       "      <td>0</td>\n",
       "      <td>0</td>\n",
       "      <td>1</td>\n",
       "      <td>2</td>\n",
       "      <td>2594</td>\n",
       "      <td>1</td>\n",
       "      <td>0</td>\n",
       "      <td>0</td>\n",
       "    </tr>\n",
       "    <tr>\n",
       "      <th>4</th>\n",
       "      <td>0</td>\n",
       "      <td>18</td>\n",
       "      <td>107</td>\n",
       "      <td>1</td>\n",
       "      <td>0</td>\n",
       "      <td>0</td>\n",
       "      <td>1</td>\n",
       "      <td>0</td>\n",
       "      <td>2600</td>\n",
       "      <td>1</td>\n",
       "      <td>0</td>\n",
       "      <td>0</td>\n",
       "    </tr>\n",
       "    <tr>\n",
       "      <th>5</th>\n",
       "      <td>0</td>\n",
       "      <td>21</td>\n",
       "      <td>124</td>\n",
       "      <td>0</td>\n",
       "      <td>0</td>\n",
       "      <td>0</td>\n",
       "      <td>0</td>\n",
       "      <td>0</td>\n",
       "      <td>2622</td>\n",
       "      <td>0</td>\n",
       "      <td>0</td>\n",
       "      <td>1</td>\n",
       "    </tr>\n",
       "    <tr>\n",
       "      <th>6</th>\n",
       "      <td>0</td>\n",
       "      <td>22</td>\n",
       "      <td>118</td>\n",
       "      <td>0</td>\n",
       "      <td>0</td>\n",
       "      <td>0</td>\n",
       "      <td>0</td>\n",
       "      <td>1</td>\n",
       "      <td>2637</td>\n",
       "      <td>1</td>\n",
       "      <td>0</td>\n",
       "      <td>0</td>\n",
       "    </tr>\n",
       "    <tr>\n",
       "      <th>7</th>\n",
       "      <td>0</td>\n",
       "      <td>17</td>\n",
       "      <td>103</td>\n",
       "      <td>0</td>\n",
       "      <td>0</td>\n",
       "      <td>0</td>\n",
       "      <td>0</td>\n",
       "      <td>1</td>\n",
       "      <td>2637</td>\n",
       "      <td>0</td>\n",
       "      <td>0</td>\n",
       "      <td>1</td>\n",
       "    </tr>\n",
       "    <tr>\n",
       "      <th>8</th>\n",
       "      <td>0</td>\n",
       "      <td>29</td>\n",
       "      <td>123</td>\n",
       "      <td>1</td>\n",
       "      <td>0</td>\n",
       "      <td>0</td>\n",
       "      <td>0</td>\n",
       "      <td>1</td>\n",
       "      <td>2663</td>\n",
       "      <td>1</td>\n",
       "      <td>0</td>\n",
       "      <td>0</td>\n",
       "    </tr>\n",
       "    <tr>\n",
       "      <th>9</th>\n",
       "      <td>0</td>\n",
       "      <td>26</td>\n",
       "      <td>113</td>\n",
       "      <td>1</td>\n",
       "      <td>0</td>\n",
       "      <td>0</td>\n",
       "      <td>0</td>\n",
       "      <td>0</td>\n",
       "      <td>2665</td>\n",
       "      <td>1</td>\n",
       "      <td>0</td>\n",
       "      <td>0</td>\n",
       "    </tr>\n",
       "  </tbody>\n",
       "</table>\n",
       "</div>"
      ],
      "text/plain": [
       "   low  age  lwt  smoke  ptl  ht  ui  ftv   bwt  white  black  other\n",
       "0    0   19  182      0    0   0   1    0  2523      0      1      0\n",
       "1    0   33  155      0    0   0   0    3  2551      0      0      1\n",
       "2    0   20  105      1    0   0   0    1  2557      1      0      0\n",
       "3    0   21  108      1    0   0   1    2  2594      1      0      0\n",
       "4    0   18  107      1    0   0   1    0  2600      1      0      0\n",
       "5    0   21  124      0    0   0   0    0  2622      0      0      1\n",
       "6    0   22  118      0    0   0   0    1  2637      1      0      0\n",
       "7    0   17  103      0    0   0   0    1  2637      0      0      1\n",
       "8    0   29  123      1    0   0   0    1  2663      1      0      0\n",
       "9    0   26  113      1    0   0   0    0  2665      1      0      0"
      ]
     },
     "execution_count": 14,
     "metadata": {},
     "output_type": "execute_result"
    }
   ],
   "source": [
    "# q1 p.a \n",
    "birthwt = pd.read_csv(\"Downloads/birth.csv\")\n",
    "birthwt = birthwt.drop(columns='Unnamed: 0')\n",
    "race_dummies = pd.get_dummies(birthwt[\"race\"], prefix=\"race\")\n",
    "# add the indicator variables to the original dataset\n",
    "birthwt = pd.concat([birthwt, race_dummies], axis=1)\n",
    "\n",
    "# drop the original \"race\" column and the \"race_other\" dummy variable\n",
    "birthwt.drop([\"race\"], axis=1, inplace=True) \n",
    "birthwt = birthwt.rename(columns= {'race_1': 'white', 'race_2': 'black', 'race_3': 'other'}) # 1 for that race, 0 for false \n",
    "birthwt.head(10)"
   ]
  },
  {
   "cell_type": "code",
   "execution_count": 15,
   "metadata": {},
   "outputs": [
    {
     "name": "stdout",
     "output_type": "stream",
     "text": [
      "Optimization terminated successfully.\n",
      "         Current function value: 0.540256\n",
      "         Iterations 6\n",
      "                           Logit Regression Results                           \n",
      "==============================================================================\n",
      "Dep. Variable:                    low   No. Observations:                  189\n",
      "Model:                          Logit   Df Residuals:                      182\n",
      "Method:                           MLE   Df Model:                            6\n",
      "Date:                Tue, 18 Apr 2023   Pseudo R-squ.:                  0.1298\n",
      "Time:                        10:39:12   Log-Likelihood:                -102.11\n",
      "converged:                       True   LL-Null:                       -117.34\n",
      "Covariance Type:            nonrobust   LLR p-value:                 3.220e-05\n",
      "==============================================================================\n",
      "                 coef    std err          z      P>|z|      [0.025      0.975]\n",
      "------------------------------------------------------------------------------\n",
      "const          0.0563      0.938      0.060      0.952      -1.782       1.894\n",
      "lwt           -0.0167      0.007     -2.459      0.014      -0.030      -0.003\n",
      "black          1.3246      0.521      2.540      0.011       0.303       2.347\n",
      "other          0.9262      0.430      2.152      0.031       0.083       1.770\n",
      "smoke          1.0358      0.393      2.639      0.008       0.266       1.805\n",
      "ht             1.8714      0.691      2.709      0.007       0.517       3.226\n",
      "ui             0.9050      0.448      2.022      0.043       0.028       1.782\n",
      "==============================================================================\n"
     ]
    }
   ],
   "source": [
    "x = birthwt[['lwt', 'black', 'other', 'smoke', 'ht', 'ui']]\n",
    "y = birthwt['low']\n",
    "X = sm.add_constant(x)\n",
    "model = sm.Logit(y, X).fit()\n",
    "print(model.summary())\n"
   ]
  },
  {
   "cell_type": "code",
   "execution_count": 16,
   "metadata": {},
   "outputs": [
    {
     "name": "stdout",
     "output_type": "stream",
     "text": [
      "Optimization terminated successfully.\n",
      "         Current function value: 0.540256\n",
      "         Iterations 6\n",
      "    threshold  accuracy  sensitivity  specificity\n",
      "0        0.00  0.312169     1.000000     0.000000\n",
      "1        0.05  0.333333     1.000000     0.030769\n",
      "2        0.10  0.417989     0.983051     0.161538\n",
      "3        0.15  0.507937     0.949153     0.307692\n",
      "4        0.20  0.513228     0.864407     0.353846\n",
      "5        0.25  0.571429     0.813559     0.461538\n",
      "6        0.30  0.682540     0.711864     0.669231\n",
      "7        0.35  0.682540     0.491525     0.769231\n",
      "8        0.40  0.714286     0.423729     0.846154\n",
      "9        0.45  0.724868     0.406780     0.869231\n",
      "10       0.50  0.730159     0.355932     0.900000\n",
      "11       0.55  0.740741     0.322034     0.930769\n",
      "12       0.60  0.730159     0.237288     0.953846\n",
      "13       0.65  0.724868     0.152542     0.984615\n",
      "14       0.70  0.703704     0.084746     0.984615\n",
      "15       0.75  0.693122     0.033898     0.992308\n",
      "16       0.80  0.693122     0.016949     1.000000\n",
      "17       0.85  0.687831     0.000000     1.000000\n",
      "18       0.90  0.687831     0.000000     1.000000\n",
      "19       0.95  0.687831     0.000000     1.000000\n",
      "20       1.00  0.687831     0.000000     1.000000\n"
     ]
    }
   ],
   "source": [
    "thresholds = np.arange(0, 1.05, 0.05)\n",
    "X = birthwt[['lwt', 'white', 'other', 'smoke', 'ht', 'ui']]\n",
    "X = sm.add_constant(X)\n",
    "y = birthwt['low']\n",
    "model = sm.Logit(y, X).fit()\n",
    "results = []\n",
    "for threshold in thresholds:\n",
    "    y_pred = (model.predict(X) >= threshold).astype(int)\n",
    "    accuracy = np.mean(y_pred == y)\n",
    "    sensitivity = np.sum((y_pred == 1) & (y == 1)) / np.sum(y == 1)\n",
    "    specificity = np.sum((y_pred == 0) & (y == 0)) / np.sum(y == 0)\n",
    "    results.append([threshold, accuracy, sensitivity, specificity])\n",
    "results = pd.DataFrame(results, columns=['threshold', 'accuracy', 'sensitivity', 'specificity'])\n",
    "print(results)\n"
   ]
  },
  {
   "cell_type": "code",
   "execution_count": 25,
   "metadata": {},
   "outputs": [
    {
     "name": "stdout",
     "output_type": "stream",
     "text": [
      "[[80 50]\n",
      " [14 45]]\n"
     ]
    }
   ],
   "source": [
    "from sklearn.metrics import confusion_matrix, roc_curve, auc, roc_auc_score \n",
    "threshold = 0.3\n",
    "model = LogisticRegression().fit(X, y)\n",
    "y_prob = model.predict_proba(X)[:, 1]\n",
    "y_pred = (y_prob >= threshold).astype(int)\n",
    "\n",
    "cm = confusion_matrix(y, y_pred)\n",
    "print(cm)\n"
   ]
  },
  {
   "cell_type": "code",
   "execution_count": 18,
   "metadata": {},
   "outputs": [
    {
     "name": "stdout",
     "output_type": "stream",
     "text": [
      "0.6613756613756614\n"
     ]
    }
   ],
   "source": [
    "# q1. d\n",
    "from sklearn.metrics import accuracy_score\n",
    "acc = accuracy_score(y, y_pred)\n",
    "print(acc)"
   ]
  },
  {
   "cell_type": "code",
   "execution_count": 19,
   "metadata": {},
   "outputs": [
    {
     "data": {
      "text/plain": [
       "0.31216931216931215"
      ]
     },
     "execution_count": 19,
     "metadata": {},
     "output_type": "execute_result"
    }
   ],
   "source": [
    "# q1.e \n",
    "sum(birthwt['low'])/ len(birthwt)\n",
    "# baseline accuracy"
   ]
  },
  {
   "cell_type": "code",
   "execution_count": 27,
   "metadata": {},
   "outputs": [
    {
     "ename": "ValueError",
     "evalue": "The feature names should match those that were passed during fit.\nFeature names unseen at fit time:\n- black\nFeature names seen at fit time, yet now missing:\n- const\n- white\n",
     "output_type": "error",
     "traceback": [
      "\u001b[0;31m---------------------------------------------------------------------------\u001b[0m",
      "\u001b[0;31mValueError\u001b[0m                                Traceback (most recent call last)",
      "Cell \u001b[0;32mIn[27], line 1\u001b[0m\n\u001b[0;32m----> 1\u001b[0m fpr, tpr, thresholds \u001b[39m=\u001b[39m roc_curve(birthwt[\u001b[39m'\u001b[39m\u001b[39mlow\u001b[39m\u001b[39m'\u001b[39m], model\u001b[39m.\u001b[39;49mpredict_proba(x)[:, \u001b[39m1\u001b[39m])\n\u001b[1;32m      2\u001b[0m roc_auc \u001b[39m=\u001b[39m auc(fpr, tpr)\n\u001b[1;32m      4\u001b[0m \u001b[39m# plot ROC curve\u001b[39;00m\n",
      "File \u001b[0;32m~/anaconda3/lib/python3.10/site-packages/sklearn/linear_model/_logistic.py:1372\u001b[0m, in \u001b[0;36mLogisticRegression.predict_proba\u001b[0;34m(self, X)\u001b[0m\n\u001b[1;32m   1364\u001b[0m ovr \u001b[39m=\u001b[39m \u001b[39mself\u001b[39m\u001b[39m.\u001b[39mmulti_class \u001b[39min\u001b[39;00m [\u001b[39m\"\u001b[39m\u001b[39movr\u001b[39m\u001b[39m\"\u001b[39m, \u001b[39m\"\u001b[39m\u001b[39mwarn\u001b[39m\u001b[39m\"\u001b[39m] \u001b[39mor\u001b[39;00m (\n\u001b[1;32m   1365\u001b[0m     \u001b[39mself\u001b[39m\u001b[39m.\u001b[39mmulti_class \u001b[39m==\u001b[39m \u001b[39m\"\u001b[39m\u001b[39mauto\u001b[39m\u001b[39m\"\u001b[39m\n\u001b[1;32m   1366\u001b[0m     \u001b[39mand\u001b[39;00m (\n\u001b[0;32m   (...)\u001b[0m\n\u001b[1;32m   1369\u001b[0m     )\n\u001b[1;32m   1370\u001b[0m )\n\u001b[1;32m   1371\u001b[0m \u001b[39mif\u001b[39;00m ovr:\n\u001b[0;32m-> 1372\u001b[0m     \u001b[39mreturn\u001b[39;00m \u001b[39msuper\u001b[39;49m()\u001b[39m.\u001b[39;49m_predict_proba_lr(X)\n\u001b[1;32m   1373\u001b[0m \u001b[39melse\u001b[39;00m:\n\u001b[1;32m   1374\u001b[0m     decision \u001b[39m=\u001b[39m \u001b[39mself\u001b[39m\u001b[39m.\u001b[39mdecision_function(X)\n",
      "File \u001b[0;32m~/anaconda3/lib/python3.10/site-packages/sklearn/linear_model/_base.py:434\u001b[0m, in \u001b[0;36mLinearClassifierMixin._predict_proba_lr\u001b[0;34m(self, X)\u001b[0m\n\u001b[1;32m    427\u001b[0m \u001b[39mdef\u001b[39;00m \u001b[39m_predict_proba_lr\u001b[39m(\u001b[39mself\u001b[39m, X):\n\u001b[1;32m    428\u001b[0m     \u001b[39m\"\"\"Probability estimation for OvR logistic regression.\u001b[39;00m\n\u001b[1;32m    429\u001b[0m \n\u001b[1;32m    430\u001b[0m \u001b[39m    Positive class probabilities are computed as\u001b[39;00m\n\u001b[1;32m    431\u001b[0m \u001b[39m    1. / (1. + np.exp(-self.decision_function(X)));\u001b[39;00m\n\u001b[1;32m    432\u001b[0m \u001b[39m    multiclass is handled by normalizing that over all classes.\u001b[39;00m\n\u001b[1;32m    433\u001b[0m \u001b[39m    \"\"\"\u001b[39;00m\n\u001b[0;32m--> 434\u001b[0m     prob \u001b[39m=\u001b[39m \u001b[39mself\u001b[39;49m\u001b[39m.\u001b[39;49mdecision_function(X)\n\u001b[1;32m    435\u001b[0m     expit(prob, out\u001b[39m=\u001b[39mprob)\n\u001b[1;32m    436\u001b[0m     \u001b[39mif\u001b[39;00m prob\u001b[39m.\u001b[39mndim \u001b[39m==\u001b[39m \u001b[39m1\u001b[39m:\n",
      "File \u001b[0;32m~/anaconda3/lib/python3.10/site-packages/sklearn/linear_model/_base.py:400\u001b[0m, in \u001b[0;36mLinearClassifierMixin.decision_function\u001b[0;34m(self, X)\u001b[0m\n\u001b[1;32m    397\u001b[0m check_is_fitted(\u001b[39mself\u001b[39m)\n\u001b[1;32m    398\u001b[0m xp, _ \u001b[39m=\u001b[39m get_namespace(X)\n\u001b[0;32m--> 400\u001b[0m X \u001b[39m=\u001b[39m \u001b[39mself\u001b[39;49m\u001b[39m.\u001b[39;49m_validate_data(X, accept_sparse\u001b[39m=\u001b[39;49m\u001b[39m\"\u001b[39;49m\u001b[39mcsr\u001b[39;49m\u001b[39m\"\u001b[39;49m, reset\u001b[39m=\u001b[39;49m\u001b[39mFalse\u001b[39;49;00m)\n\u001b[1;32m    401\u001b[0m scores \u001b[39m=\u001b[39m safe_sparse_dot(X, \u001b[39mself\u001b[39m\u001b[39m.\u001b[39mcoef_\u001b[39m.\u001b[39mT, dense_output\u001b[39m=\u001b[39m\u001b[39mTrue\u001b[39;00m) \u001b[39m+\u001b[39m \u001b[39mself\u001b[39m\u001b[39m.\u001b[39mintercept_\n\u001b[1;32m    402\u001b[0m \u001b[39mreturn\u001b[39;00m xp\u001b[39m.\u001b[39mreshape(scores, \u001b[39m-\u001b[39m\u001b[39m1\u001b[39m) \u001b[39mif\u001b[39;00m scores\u001b[39m.\u001b[39mshape[\u001b[39m1\u001b[39m] \u001b[39m==\u001b[39m \u001b[39m1\u001b[39m \u001b[39melse\u001b[39;00m scores\n",
      "File \u001b[0;32m~/anaconda3/lib/python3.10/site-packages/sklearn/base.py:529\u001b[0m, in \u001b[0;36mBaseEstimator._validate_data\u001b[0;34m(self, X, y, reset, validate_separately, **check_params)\u001b[0m\n\u001b[1;32m    464\u001b[0m \u001b[39mdef\u001b[39;00m \u001b[39m_validate_data\u001b[39m(\n\u001b[1;32m    465\u001b[0m     \u001b[39mself\u001b[39m,\n\u001b[1;32m    466\u001b[0m     X\u001b[39m=\u001b[39m\u001b[39m\"\u001b[39m\u001b[39mno_validation\u001b[39m\u001b[39m\"\u001b[39m,\n\u001b[0;32m   (...)\u001b[0m\n\u001b[1;32m    470\u001b[0m     \u001b[39m*\u001b[39m\u001b[39m*\u001b[39mcheck_params,\n\u001b[1;32m    471\u001b[0m ):\n\u001b[1;32m    472\u001b[0m     \u001b[39m\"\"\"Validate input data and set or check the `n_features_in_` attribute.\u001b[39;00m\n\u001b[1;32m    473\u001b[0m \n\u001b[1;32m    474\u001b[0m \u001b[39m    Parameters\u001b[39;00m\n\u001b[0;32m   (...)\u001b[0m\n\u001b[1;32m    527\u001b[0m \u001b[39m        validated.\u001b[39;00m\n\u001b[1;32m    528\u001b[0m \u001b[39m    \"\"\"\u001b[39;00m\n\u001b[0;32m--> 529\u001b[0m     \u001b[39mself\u001b[39;49m\u001b[39m.\u001b[39;49m_check_feature_names(X, reset\u001b[39m=\u001b[39;49mreset)\n\u001b[1;32m    531\u001b[0m     \u001b[39mif\u001b[39;00m y \u001b[39mis\u001b[39;00m \u001b[39mNone\u001b[39;00m \u001b[39mand\u001b[39;00m \u001b[39mself\u001b[39m\u001b[39m.\u001b[39m_get_tags()[\u001b[39m\"\u001b[39m\u001b[39mrequires_y\u001b[39m\u001b[39m\"\u001b[39m]:\n\u001b[1;32m    532\u001b[0m         \u001b[39mraise\u001b[39;00m \u001b[39mValueError\u001b[39;00m(\n\u001b[1;32m    533\u001b[0m             \u001b[39mf\u001b[39m\u001b[39m\"\u001b[39m\u001b[39mThis \u001b[39m\u001b[39m{\u001b[39;00m\u001b[39mself\u001b[39m\u001b[39m.\u001b[39m\u001b[39m__class__\u001b[39m\u001b[39m.\u001b[39m\u001b[39m__name__\u001b[39m\u001b[39m}\u001b[39;00m\u001b[39m estimator \u001b[39m\u001b[39m\"\u001b[39m\n\u001b[1;32m    534\u001b[0m             \u001b[39m\"\u001b[39m\u001b[39mrequires y to be passed, but the target y is None.\u001b[39m\u001b[39m\"\u001b[39m\n\u001b[1;32m    535\u001b[0m         )\n",
      "File \u001b[0;32m~/anaconda3/lib/python3.10/site-packages/sklearn/base.py:462\u001b[0m, in \u001b[0;36mBaseEstimator._check_feature_names\u001b[0;34m(self, X, reset)\u001b[0m\n\u001b[1;32m    457\u001b[0m \u001b[39mif\u001b[39;00m \u001b[39mnot\u001b[39;00m missing_names \u001b[39mand\u001b[39;00m \u001b[39mnot\u001b[39;00m unexpected_names:\n\u001b[1;32m    458\u001b[0m     message \u001b[39m+\u001b[39m\u001b[39m=\u001b[39m (\n\u001b[1;32m    459\u001b[0m         \u001b[39m\"\u001b[39m\u001b[39mFeature names must be in the same order as they were in fit.\u001b[39m\u001b[39m\\n\u001b[39;00m\u001b[39m\"\u001b[39m\n\u001b[1;32m    460\u001b[0m     )\n\u001b[0;32m--> 462\u001b[0m \u001b[39mraise\u001b[39;00m \u001b[39mValueError\u001b[39;00m(message)\n",
      "\u001b[0;31mValueError\u001b[0m: The feature names should match those that were passed during fit.\nFeature names unseen at fit time:\n- black\nFeature names seen at fit time, yet now missing:\n- const\n- white\n"
     ]
    }
   ],
   "source": [
    "\n",
    "fpr, tpr, thresholds = roc_curve(birthwt['low'], model.predict_proba(x)[:, 1])\n",
    "roc_auc = auc(fpr, tpr)\n",
    "\n",
    "# plot ROC curve\n",
    "plt.plot(fpr, tpr, label='ROC curve (area = %0.2f)' % roc_auc)\n",
    "plt.plot([0, 1], [0, 1], linestyle= \"--\", label= 'Random')\n",
    "plt.xlim([0.0, 1.0])\n",
    "plt.ylim([0.0, 1.0])\n",
    "plt.xlabel('False positive rate (1 - specificity)')\n",
    "plt.ylabel('True positive rate (sensitivity)')\n",
    "plt.title('ROC curve for logistic regression classifier')\n",
    "plt.show()"
   ]
  },
  {
   "cell_type": "code",
   "execution_count": null,
   "metadata": {},
   "outputs": [
    {
     "name": "stdout",
     "output_type": "stream",
     "text": [
      "AUC: 0.7314211212516297\n"
     ]
    }
   ],
   "source": [
    "logreg = LogisticRegression()\n",
    "logreg.fit(x, y)\n",
    "y_true = birthwt['low']\n",
    "y_prob = logreg.predict_proba(x)[:, 1]\n",
    "\n",
    "auc = roc_auc_score(y_true, y_prob)\n",
    "print(\"AUC:\", auc)\n"
   ]
  },
  {
   "cell_type": "code",
   "execution_count": null,
   "metadata": {},
   "outputs": [
    {
     "data": {
      "text/plain": [
       "'\\nQuestion 2\\n\\n'"
      ]
     },
     "execution_count": 355,
     "metadata": {},
     "output_type": "execute_result"
    }
   ],
   "source": [
    "\"\"\"\n",
    "Question 2\n",
    "a. 57 rows are include in the test set. \n",
    "d. There are 5 coefficients in the model. The most important one is ui in this case\n",
    "with the highest absolute value. \n",
    "e. To maximize the AUC of the rest the test set, we would need a threshold of 0.5. \n",
    "f. In our case, there is only a one variable / coefficient difference (no black coefficient)\n",
    "between these two approaches. Because Lasso penalizes the coefficients, this form of generalization\n",
    "would have better performance as opposed to the iterative approach of backwards model\n",
    "selection. \n",
    "\"\"\""
   ]
  },
  {
   "cell_type": "code",
   "execution_count": 24,
   "metadata": {},
   "outputs": [
    {
     "ename": "NameError",
     "evalue": "name 'train_test_split' is not defined",
     "output_type": "error",
     "traceback": [
      "\u001b[0;31m---------------------------------------------------------------------------\u001b[0m",
      "\u001b[0;31mNameError\u001b[0m                                 Traceback (most recent call last)",
      "Cell \u001b[0;32mIn[24], line 1\u001b[0m\n\u001b[0;32m----> 1\u001b[0m X_train, X_test, y_train, y_test \u001b[39m=\u001b[39m train_test_split(x, y, test_size\u001b[39m=\u001b[39m\u001b[39m0.3\u001b[39m, random_state\u001b[39m=\u001b[39m\u001b[39m42\u001b[39m)\n\u001b[1;32m      2\u001b[0m scaler \u001b[39m=\u001b[39m StandardScaler()\n\u001b[1;32m      3\u001b[0m X_train_scaler \u001b[39m=\u001b[39m scaler\u001b[39m.\u001b[39mfit_transform(X_train)\n",
      "\u001b[0;31mNameError\u001b[0m: name 'train_test_split' is not defined"
     ]
    }
   ],
   "source": [
    "X_train, X_test, y_train, y_test = train_test_split(x, y, test_size=0.3, random_state=42)\n",
    "scaler = StandardScaler()\n",
    "X_train_scaler = scaler.fit_transform(X_train)\n",
    "print(f\"Number of rows in the test set: {X_test.shape[0]}\")"
   ]
  },
  {
   "cell_type": "code",
   "execution_count": null,
   "metadata": {},
   "outputs": [
    {
     "name": "stdout",
     "output_type": "stream",
     "text": [
      "[[-0.12960164  0.          0.09260209  0.22124667  0.08263585  0.32083876]]\n"
     ]
    }
   ],
   "source": [
    "X_train_pp = pd.DataFrame(scaler.transform(X_train), columns = [['lwt', 'black', 'other', 'smoke', 'ht', 'ui']])\n",
    "X_test_pp = pd.DataFrame(scaler.transform(X_test), columns = [['lwt', 'black', 'other', 'smoke', 'ht', 'ui']])\n",
    "\n",
    "model2 = LogisticRegression(penalty='l1', solver = 'liblinear', C = 0.2)\n",
    "model2.fit(X_train_pp, y_train)\n",
    "print(model2.coef_)"
   ]
  },
  {
   "cell_type": "code",
   "execution_count": 12,
   "metadata": {},
   "outputs": [
    {
     "ename": "NameError",
     "evalue": "name 'X_train_pp' is not defined",
     "output_type": "error",
     "traceback": [
      "\u001b[0;31m---------------------------------------------------------------------------\u001b[0m",
      "\u001b[0;31mNameError\u001b[0m                                 Traceback (most recent call last)",
      "Cell \u001b[0;32mIn[12], line 8\u001b[0m\n\u001b[1;32m      6\u001b[0m \u001b[39mfor\u001b[39;00m threshold \u001b[39min\u001b[39;00m Cs:\n\u001b[1;32m      7\u001b[0m     model \u001b[39m=\u001b[39m LogisticRegression(penalty\u001b[39m=\u001b[39m\u001b[39m'\u001b[39m\u001b[39ml1\u001b[39m\u001b[39m'\u001b[39m, solver \u001b[39m=\u001b[39m \u001b[39m'\u001b[39m\u001b[39mliblinear\u001b[39m\u001b[39m'\u001b[39m, C\u001b[39m=\u001b[39mthreshold)\n\u001b[0;32m----> 8\u001b[0m     tempmodel \u001b[39m=\u001b[39m model\u001b[39m.\u001b[39mfit(X_train_pp, y_train)\n\u001b[1;32m      9\u001b[0m     coefs_lasso \u001b[39m=\u001b[39m pd\u001b[39m.\u001b[39mconcat([coefs_lasso, pd\u001b[39m.\u001b[39mSeries(tempmodel\u001b[39m.\u001b[39mcoef_[\u001b[39m0\u001b[39m])\u001b[39m.\u001b[39mto_frame()\u001b[39m.\u001b[39mT], ignore_index\u001b[39m=\u001b[39m \u001b[39mTrue\u001b[39;00m)\n\u001b[1;32m     10\u001b[0m     pred \u001b[39m=\u001b[39m tempmodel\u001b[39m.\u001b[39mpredict(X_test_pp)\n",
      "\u001b[0;31mNameError\u001b[0m: name 'X_train_pp' is not defined"
     ]
    }
   ],
   "source": [
    "# q2. part b \n",
    "coefs_lasso = pd.DataFrame()\n",
    "auc_list = []\n",
    "Cs = [0.0001, 0.001, 0.01, 0.1, 0.2, 0.3, 0.5, 0.8, 1]\n",
    "\n",
    "for threshold in Cs:\n",
    "    model = LogisticRegression(penalty='l1', solver = 'liblinear', C=threshold)\n",
    "    tempmodel = model.fit(X_train_pp, y_train)\n",
    "    coefs_lasso = pd.concat([coefs_lasso, pd.Series(tempmodel.coef_[0]).to_frame().T], ignore_index= True)\n",
    "    pred = tempmodel.predict(X_test_pp)\n",
    "    fpr, tpr, thresholds = roc_curve(y_test, pred, pos_label=1)\n",
    "    auc_list.append(auc(fpr, tpr))"
   ]
  },
  {
   "cell_type": "code",
   "execution_count": null,
   "metadata": {},
   "outputs": [],
   "source": [
    "lasso_plt = coefs_lasso\n",
    "lasso_plt.rename(columns={0: 'lwt', 1: 'black',\n",
    "                                2: 'other', 3: 'smoke',\n",
    "                                4: 'ht', 5: 'ui'}, inplace = True)\n",
    "lasso_plt['Threshold'] = Cs"
   ]
  },
  {
   "cell_type": "code",
   "execution_count": null,
   "metadata": {},
   "outputs": [
    {
     "data": {
      "image/png": "[encoded data removed]",
      "text/plain": [
       "<Figure size 640x480 with 1 Axes>"
      ]
     },
     "metadata": {},
     "output_type": "display_data"
    },
    {
     "data": {
      "text/plain": [
       "<ggplot: (8784994844769)>"
      ]
     },
     "execution_count": 483,
     "metadata": {},
     "output_type": "execute_result"
    }
   ],
   "source": [
    "#q2 part c\n",
    "lasso_plt_mlt = pd.melt(lasso_plt, id_vars = 'Threshold',\n",
    "                                  var_name = 'Variable', value_name = 'Coefficient')\n",
    "(p9.ggplot(lasso_plt_mlt, p9.aes(x = 'Threshold', y = 'Coefficient',\n",
    "                                            color = 'Variable')) + p9.geom_line())"
   ]
  },
  {
   "cell_type": "code",
   "execution_count": null,
   "metadata": {},
   "outputs": [
    {
     "name": "stdout",
     "output_type": "stream",
     "text": [
      "    Threshold Variable  Coefficient\n",
      "4         0.2      lwt    -0.129557\n",
      "13        0.2    black     0.000000\n",
      "22        0.2    other     0.092628\n",
      "31        0.2    smoke     0.221272\n",
      "40        0.2       ht     0.082620\n",
      "49        0.2       ui     0.320843\n"
     ]
    }
   ],
   "source": [
    "# q2 part d\n",
    "plt_label = lasso_plt_mlt[(lasso_plt_mlt['Threshold'] == 0.2)]\n",
    "print(plt_label)"
   ]
  },
  {
   "cell_type": "code",
   "execution_count": null,
   "metadata": {},
   "outputs": [
    {
     "ename": "NameError",
     "evalue": "name 'Cs' is not defined",
     "output_type": "error",
     "traceback": [
      "\u001b[0;31m---------------------------------------------------------------------------\u001b[0m",
      "\u001b[0;31mNameError\u001b[0m                                 Traceback (most recent call last)",
      "Cell \u001b[0;32mIn[2], line 3\u001b[0m\n\u001b[1;32m      1\u001b[0m \u001b[39m# q2. part e\u001b[39;00m\n\u001b[0;32m----> 3\u001b[0m \u001b[39mfor\u001b[39;00m threshold \u001b[39min\u001b[39;00m Cs:\n\u001b[1;32m      4\u001b[0m     model \u001b[39m=\u001b[39m Lasso(alpha\u001b[39m=\u001b[39mthreshold, max_iter\u001b[39m=\u001b[39m \u001b[39m100000\u001b[39m, random_state\u001b[39m=\u001b[39m\u001b[39m42\u001b[39m)\n\u001b[1;32m      5\u001b[0m     model\u001b[39m.\u001b[39mfit(X_train, y_train)\n",
      "\u001b[0;31mNameError\u001b[0m: name 'Cs' is not defined"
     ]
    }
   ],
   "source": [
    "# q2. part e\n",
    "\n",
    "for threshold in Cs:\n",
    "    model = Lasso(alpha=threshold, max_iter= 100000, random_state=42)\n",
    "    model.fit(X_train, y_train)\n",
    "    y_predicted = model.predict(X_train_scaler)\n",
    "    auc = roc_auc_score(y_train, y_predicted)\n",
    "    print(f\"{threshold}: {auc}\")"
   ]
  },
  {
   "cell_type": "code",
   "execution_count": null,
   "metadata": {},
   "outputs": [
    {
     "data": {
      "text/plain": [
       "0.5"
      ]
     },
     "execution_count": 469,
     "metadata": {},
     "output_type": "execute_result"
    }
   ],
   "source": [
    "Cs[np.argmax(auc_list)]\n"
   ]
  }
 ],
 "metadata": {
  "kernelspec": {
   "display_name": "base",
   "language": "python",
   "name": "python3"
  },
  "language_info": {
   "codemirror_mode": {
    "name": "ipython",
    "version": 3
   },
   "file_extension": ".py",
   "mimetype": "text/x-python",
   "name": "python",
   "nbconvert_exporter": "python",
   "pygments_lexer": "ipython3",
   "version": "3.9.16"
  },
  "orig_nbformat": 4
 },
 "nbformat": 4,
 "nbformat_minor": 2
}
