{
 "cells": [
  {
   "cell_type": "code",
   "execution_count": 46,
   "metadata": {},
   "outputs": [],
   "source": [
    "import numpy as np\n",
    "from scipy.stats import linregress\n",
    "from scipy.optimize import minimize\n",
    "import pandas as pd\n",
    "import os\n",
    "from collections import Counter\n",
    "import seaborn as sns\n",
    "from sklearn.linear_model import LinearRegression, LogisticRegression, Lasso\n",
    "# These lines do some fancy plotting magics\n",
    "%matplotlib inline\n",
    "import matplotlib.pyplot as plt\n",
    "plt.style.use('fivethirtyeight')\n",
    "import warnings\n",
    "warnings.simplefilter('ignore', FutureWarning)"
   ]
  },
  {
   "attachments": {},
   "cell_type": "markdown",
   "metadata": {},
   "source": [
    "Homework 5 -- Written Answers\n",
    "\n",
    "Question 1 \n",
    "\n",
    "a. In q1. part a code \n",
    "\n",
    "b. In q1. part b code\n",
    "\n",
    "c. 415 trips started from University Ave & 57th St. \n",
    "\n",
    "d. A total of 2 could not be corrected. "
   ]
  },
  {
   "cell_type": "code",
   "execution_count": 61,
   "metadata": {},
   "outputs": [
    {
     "data": {
      "text/plain": [
       "(2438, 12)"
      ]
     },
     "execution_count": 61,
     "metadata": {},
     "output_type": "execute_result"
    }
   ],
   "source": [
    "# q1. a \n",
    "bikes = pd.read_csv(\"/Users/giovannimaya/Downloads/Bike2.csv\")\n",
    "bikeND = bikes.drop_duplicates()\n",
    "bikeND.shape"
   ]
  },
  {
   "cell_type": "code",
   "execution_count": 62,
   "metadata": {},
   "outputs": [
    {
     "name": "stdout",
     "output_type": "stream",
     "text": [
      "True\n"
     ]
    }
   ],
   "source": [
    "trip_id = len(bikeND['trip_id'].unique())\n",
    "print(trip_id == len(bikeND))"
   ]
  },
  {
   "cell_type": "code",
   "execution_count": 74,
   "metadata": {},
   "outputs": [],
   "source": [
    "# q1. part b\n",
    "dict = {}\n",
    "for index, row in bikeND.iterrows():\n",
    "    from_id = row['from_station_id']\n",
    "    to_id = row['to_station_id']\n",
    "    from_name = row['from_station_name']\n",
    "    to_name = row['to_station_name']\n",
    "    if pd.isna(from_name):\n",
    "        if from_id in dict:\n",
    "            bikeND.loc[index, 'from station name'] = dict[from_id]\n",
    "    else:\n",
    "        dict[from_id] = from_name\n",
    "    if pd.isna(to_name):\n",
    "        if to_id in dict:\n",
    "            bikeND.loc[index, 'to station name'] = dict[to_id]\n",
    "    else:\n",
    "        dict[to_id] = to_name"
   ]
  },
  {
   "cell_type": "code",
   "execution_count": 75,
   "metadata": {},
   "outputs": [
    {
     "name": "stdout",
     "output_type": "stream",
     "text": [
      "415\n"
     ]
    }
   ],
   "source": [
    "# q1. c \n",
    "print(len(bikeND.loc[bikeND[\"from_station_name\"] == \"University Ave & 57th St\"]))"
   ]
  },
  {
   "cell_type": "code",
   "execution_count": 76,
   "metadata": {},
   "outputs": [
    {
     "name": "stdout",
     "output_type": "stream",
     "text": [
      "Number of missing from station names: 2\n",
      "Number of missing to station names: 0\n"
     ]
    }
   ],
   "source": [
    "# q1. d\n",
    "num_missing_from = bikeND['from_station_name'].isna().sum()\n",
    "num_missing_to = bikeND['to_station_name'].isna().sum()\n",
    "\n",
    "print(\"Number of missing from station names:\", num_missing_from)\n",
    "print(\"Number of missing to station names:\", num_missing_to)\n"
   ]
  }
 ],
 "metadata": {
  "kernelspec": {
   "display_name": "base",
   "language": "python",
   "name": "python3"
  },
  "language_info": {
   "codemirror_mode": {
    "name": "ipython",
    "version": 3
   },
   "file_extension": ".py",
   "mimetype": "text/x-python",
   "name": "python",
   "nbconvert_exporter": "python",
   "pygments_lexer": "ipython3",
   "version": "3.10.9"
  },
  "orig_nbformat": 4
 },
 "nbformat": 4,
 "nbformat_minor": 2
}
