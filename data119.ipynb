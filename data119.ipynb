{
 "cells": [
  {
   "attachments": {},
   "cell_type": "markdown",
   "metadata": {},
   "source": [
    "Unsupervised Learning:\n",
    "- Clustering refers to a very broad set of techniques for finding subgroups \n",
    "    - Examples include:\n",
    "        - n tissue samples, each with p measurements or features for patients with\n",
    "        breast cancer \n",
    "        - Our goal is to perform market segmentation by identifying subgroups of \n",
    "        people who might be more receptive to a particular form of advertising   \n",
    "- K-Means Clustering \n",
    "    - A simple and elegant approach for partitioning a data set into K distinct, \n",
    "    non-overlapping clusters\n",
    "        - To perform:\n",
    "            - We must specify the desired number of clusters K \n",
    "            - The K-means alg will assign each observation to exactly one of the\n",
    "            K clusters\n",
    "                - Randomly assign a number from 1 - K to each of the observations\n",
    "                - Iterate until the cluster assignments stop changing \n",
    "                    - For each of the K clusters, compute the cluster centroid \n",
    "                    - Assign each observation to the cluster whose centroid is\n",
    "                    closest \n",
    "            - Interpretation\n",
    "- Hierarchical Clustering \n",
    "- Dendrograms Terminology\n",
    "    - The earlier fusions occur, the more similar the groups are"
   ]
  }
 ],
 "metadata": {
  "language_info": {
   "name": "python"
  },
  "orig_nbformat": 4
 },
 "nbformat": 4,
 "nbformat_minor": 2
}
