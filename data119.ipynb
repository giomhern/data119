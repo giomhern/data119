{
 "cells": [
  {
   "attachments": {},
   "cell_type": "markdown",
   "metadata": {},
   "source": [
    "Unsupervised Learning:\n",
    "- Clustering refers to a very broad set of techniques for finding subgroups \n",
    "    - Examples include:\n",
    "        - n tissue samples, each with p measurements or features for patients with\n",
    "        breast cancer \n",
    "        - Our goal is to perform market segmentation by identifying subgroups of \n",
    "        people who might be more receptive to a particular form of advertising   \n",
    "- K-Means Clustering \n",
    "    - A simple and elegant approach for partitioning a data set into K distinct, \n",
    "    non-overlapping clusters\n",
    "        - To perform:\n",
    "            - We must specify the desired number of clusters K \n",
    "            - The K-means alg will assign each observation to exactly one of the\n",
    "            K clusters\n",
    "                - Randomly assign a number from 1 - K to each of the observations\n",
    "                - Iterate until the cluster assignments stop changing \n",
    "                    - For each of the K clusters, compute the cluster centroid \n",
    "                    - Assign each observation to the cluster whose centroid is\n",
    "                    closest \n",
    "            - Interpretation\n",
    "- Hierarchical Clustering \n",
    "- Dendrograms Terminology\n",
    "    - The earlier fusions occur, the more similar the groups are"
   ]
  },
  {
   "attachments": {},
   "cell_type": "markdown",
   "metadata": {},
   "source": [
    "Supervised Learning:\n",
    "- Numeric -> linear regression\n",
    "    - SLS \n",
    "        - sum (Yi - yi)^2\n",
    "        - pen and paper\n",
    "    - OLS \n",
    "        - Multiple x values\n",
    "        - Uses linear algebra to find answers \n",
    "    - Regularization(optimization):\n",
    "        - Ridge:\n",
    "            - sum [(beta)^2]\n",
    "        - LASSO:\n",
    "            - sum [(1/c) abs(beta)]\n",
    "            - does feature selection\n",
    "    - Odds: P / 1 - P\n",
    "        - for example -> (1/6) / (5/6) = 1/5\n",
    "    - (Y - Y mean) / (Y std) = pure correlation constant \n",
    "- Binary (0, 1) -> logistic regression\n",
    "    - Sigmoid function (of the equation)\n",
    "    - Should be able to sketch them\n",
    "    - Loss Function = SSE = sum (Y - y)^2 where Y is predicted and y is actual \n",
    "    - RMSE = sqrt(SSE / N)\n",
    "- Multiclass -> generalized logistic regression\n",
    "- Complex (image, waveform) -> KNN, CART, neural networks \n",
    "- Draw a neural network (from geometry and code)\n",
    "- Single linkage: use min dist\n",
    "- Complete linkage: use max dist \n",
    "- Average linkage: use avg dist\n",
    "- Accuracy:\n",
    "    - (TP + TN) / total \n",
    "- Misclassification:\n",
    "    - (FP + FN) / total \n",
    "- TP, TN - sensitivity\n",
    "- FP - actual no \n"
   ]
  }
 ],
 "metadata": {
  "language_info": {
   "name": "python"
  },
  "orig_nbformat": 4
 },
 "nbformat": 4,
 "nbformat_minor": 2
}
